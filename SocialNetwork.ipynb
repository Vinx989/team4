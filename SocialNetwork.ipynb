{
 "cells": [
  {
   "cell_type": "code",
   "execution_count": 2,
   "id": "5315059d-fc13-4bdc-b8c3-ca2650d66d5f",
   "metadata": {},
   "outputs": [
    {
     "data": {
      "text/plain": [
       "'\\nRelease 1: Registrarsi, Connettersi, pubblicare post, commentare post altrui'"
      ]
     },
     "execution_count": 2,
     "metadata": {},
     "output_type": "execute_result"
    }
   ],
   "source": [
    "'''\n",
    "Release 1: Registrarsi, Connettersi, pubblicare post, commentare post altrui'''"
   ]
  },
  {
   "cell_type": "code",
   "execution_count": 38,
   "id": "d148f9e7-c092-4226-b148-1d44095f0021",
   "metadata": {},
   "outputs": [],
   "source": [
    "#in lista utenti ci sono gli user degli utenti istanziati\n",
    "#lista_utenti = []\n",
    "\n",
    "#in lista_utenti_oggetto ci sono gli oggetti utente\n",
    "lista_utenti_oggetto = []"
   ]
  },
  {
   "cell_type": "code",
   "execution_count": 35,
   "id": "5b97a581-f455-4a33-b094-a5b89a633128",
   "metadata": {},
   "outputs": [],
   "source": [
    "class Utente:\n",
    "    lista_amici_personali = []\n",
    "    lista_post_personali = []\n",
    "    \n",
    "    #per istanziare gli oggetti Utente\n",
    "    def __init__(self, username, nome, cognome,password): \n",
    "        self.username = username\n",
    "        self.nome = nome\n",
    "        self.cognome = cognome\n",
    "        self.passwordord = password\n",
    "        lista_utenti_oggetto.append(self)\n",
    "        #lista_utenti.append(self.username) #<---\n",
    "    \n",
    "   # def registra(self):\n",
    "        #lista_utenti_oggetto.append(self)\n",
    "     \n",
    "    \n",
    "    #Per far accedere l'utente al Social Astraction\n",
    "    def accedi(self, username, password):\n",
    "        username_ins = input('inserisci username: ')\n",
    "        password_ins = input('inserisci password: ')\n",
    "        \n",
    "        if username_ins == self.username and password_ins == self.password:\n",
    "            return True\n",
    "        else:\n",
    "            return False\n",
    "    \n",
    "    \n",
    "    def create_post(self):\n",
    "        testo_post = input('inserisci la stringa del post' ) \n",
    "        self.lista_post_personali.append(testo_post)\n",
    "        \n",
    "        #x = Post(self.username, testo_post )\n",
    "        #self.lista_post_personali.append( x )\n",
    "\n",
    "    #Cancelliamo un nostro post\n",
    "    def cancella_post(self):\n",
    "        \n",
    "        if self.lista_post_personali != []: \n",
    "            for i in range(len(self.lista_post_personali)):\n",
    "                print(i, ':', self.lista_post_personali[i])\n",
    "            \n",
    "            index_to_pop = int(input('digita il numero del post da cancellare'))\n",
    "            self.lista_post_personali.pop(index_to_pop)\n",
    "            print('Bravo, hai cancellato il tuo post!')\n",
    "            \n",
    "        else:\n",
    "            print('non hai post')\n",
    "            \n",
    "    #Inizia il follow di un Utente usando la lista lista_utente, che contiene le string con gli username degli Utenti        \n",
    "    def following(self):\n",
    "        amico = input('inserisci il nome del tuo amico: ')\n",
    "        if amico in lista_utenti:\n",
    "            self.lista_amici_personali.append(amico)\n",
    "        else:\n",
    "            print('questo utente non esiste')\n",
    "            \n",
    "    #Elimina follower poppa un amico dalla lista\n",
    "    def blocca_follow(self):\n",
    "        try:\n",
    "            for i in range(len(self.lista_amici_personali)):\n",
    "                print(i, ':', self.lista_amici_personali[i])\n",
    "\n",
    "            exAmico = input(\"Inserisci il nome dell'amico che vuoi bloccare con cattiveria: \")\n",
    "            self.lista_amici_personali.remove(exAmico)\n",
    "        except:\n",
    "            print(\"l'amico non c'è\")\n",
    "        \n",
    "        "
   ]
  },
  {
   "cell_type": "code",
   "execution_count": 12,
   "id": "509cd785-5368-4cb0-bcfd-cfad2174065b",
   "metadata": {},
   "outputs": [],
   "source": [
    "class Post(Utente):\n",
    "    post_stesso = ''\n",
    "    lista_commenti_delPost = [ ]\n",
    "\n",
    "    def init (self, username, contenuto):\n",
    "        super().__init__(username)\n",
    "        self.post_stesso = contenuto\n",
    "\n",
    "    #def commenti()\n",
    "       # utente.post.commenti()?"
   ]
  },
  {
   "cell_type": "code",
   "execution_count": 6,
   "id": "34f41159-486f-4062-b279-d4712045fcf2",
   "metadata": {},
   "outputs": [],
   "source": [
    "class DataBase:\n",
    "\n",
    "    def __init__(self,username, nome, cognome, password, lista_post,lista_amici):\n",
    "        self.username = username\n",
    "        self.nome = nome\n",
    "        self.cognome = cognome\n",
    "        self.passwordord = password\n",
    "        self.lista_amici_personali = lista_post\n",
    "        self.lista_post_personali = lista_amici"
   ]
  },
  {
   "cell_type": "code",
   "execution_count": 7,
   "id": "c47e4190-dd58-4e77-8ebd-0b6fdae66e06",
   "metadata": {},
   "outputs": [],
   "source": [
    "users = [{'nome_user': 'Vinx989', 'nome':'vincenzo', 'cognome':'bruno', 'password':'trottola89!', 'posts':['Cosenza che bella giornata','La suppressata va senza finocchietto!!!','Il cielo è azzurro sopra berlino #campionidelMONDO'], 'amici':['pach90','Alerisp94','Ueloiol']},\n",
    "         {'nome_user': 'Alerisp94', 'nome':'alessandra', 'cognome':'rispoli', 'password':'rispoli94!', 'posts':['Torino che bella giornata','Universo sto arrivando!!!','Il cielo è azzurro sopra berlino #campionidelMONDO'], 'amici':['pach90','Vinx989','Ueloiol']},\n",
    "         {'nome_user': 'Pach90', 'nome':'nicola', 'cognome':'pacella', 'password':'nicolo90!', 'posts':['Firenze che bella giornata','La fiorentina batte il risotto alla milanese!!!','Il cielo è azzurro sopra berlino #campionidelMONDO'], 'amici':['Vinx989','Alerisp94','Ueloiol']},\n",
    "         {'nome_user': 'Ueloiol', 'nome':'stefano', 'cognome':'bassi', 'password':'bassi99!', 'posts':['Pavia che bella giornata','Noi fisici siamo degli eroi!!!','Il cielo è azzurro sopra berlino #campionidelMONDO'], 'amici':['pach90','Alerisp94','Vinx989']}]\n"
   ]
  },
  {
   "cell_type": "code",
   "execution_count": 8,
   "id": "42812690-3879-40d8-8e10-907372ec226a",
   "metadata": {},
   "outputs": [],
   "source": [
    "for item in users:\n",
    "    username = item['nome_user']\n",
    "    nome = item['nome']\n",
    "    cognome = item['cognome']\n",
    "    password = item['password']\n",
    "    lista_post = item['posts']\n",
    "    lista_amici = item['amici']\n",
    "    globals()[f'utente_{nome}'] = DataBase(username,nome,cognome,password,lista_post,lista_amici)\n",
    "    lista_utenti_oggetto.append(globals()[f'utente_{nome}'])"
   ]
  },
  {
   "cell_type": "code",
   "execution_count": 39,
   "id": "a317a1e2-a7e7-4135-b08f-4ae306d00ffa",
   "metadata": {},
   "outputs": [
    {
     "data": {
      "text/plain": [
       "[]"
      ]
     },
     "execution_count": 39,
     "metadata": {},
     "output_type": "execute_result"
    }
   ],
   "source": [
    "lista_utenti_oggetto"
   ]
  },
  {
   "cell_type": "code",
   "execution_count": 40,
   "id": "5e56962f-9999-4923-8bc3-dbea189cd3be",
   "metadata": {},
   "outputs": [
    {
     "data": {
      "text/plain": [
       "[<__main__.Utente at 0x1c988296bb0>]"
      ]
     },
     "execution_count": 40,
     "metadata": {},
     "output_type": "execute_result"
    }
   ],
   "source": [
    "\n",
    "giacomino = Utente('GiacomBomber69', 'Giacomo', 'Rossi', '12345')\n",
    "\n",
    "#lista_utenti_oggetto[0].lista_amici_personali\n",
    "lista_utenti_oggetto"
   ]
  },
  {
   "cell_type": "code",
   "execution_count": null,
   "id": "c1a07197-af78-4d1e-a2c5-68e1f8e922ca",
   "metadata": {},
   "outputs": [],
   "source": []
  },
  {
   "cell_type": "code",
   "execution_count": null,
   "id": "01ad6602-aed5-46d3-8ffc-e7965f813009",
   "metadata": {},
   "outputs": [],
   "source": [
    "    "
   ]
  },
  {
   "cell_type": "code",
   "execution_count": null,
   "id": "0896feb0-48bb-4279-ab1c-93168a561d00",
   "metadata": {},
   "outputs": [],
   "source": []
  }
 ],
 "metadata": {
  "kernelspec": {
   "display_name": "Python 3 (ipykernel)",
   "language": "python",
   "name": "python3"
  },
  "language_info": {
   "codemirror_mode": {
    "name": "ipython",
    "version": 3
   },
   "file_extension": ".py",
   "mimetype": "text/x-python",
   "name": "python",
   "nbconvert_exporter": "python",
   "pygments_lexer": "ipython3",
   "version": "3.9.13"
  }
 },
 "nbformat": 4,
 "nbformat_minor": 5
}

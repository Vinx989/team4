{
 "cells": [
  {
   "cell_type": "code",
   "execution_count": 50,
   "id": "d148f9e7-c092-4226-b148-1d44095f0021",
   "metadata": {},
   "outputs": [],
   "source": [
    "#in lista utenti ci sono gli user degli utenti istanziati\n",
    "lista_utenti = []\n",
    "\n",
    "#in lista_utenti_oggetto ci sono gli oggetti utente\n",
    "lista_utenti_oggetto = []"
   ]
  },
  {
   "cell_type": "code",
   "execution_count": 51,
   "id": "5b97a581-f455-4a33-b094-a5b89a633128",
   "metadata": {},
   "outputs": [],
   "source": [
    "class Utente:\n",
    "    lista_amici_personali = []\n",
    "    lista_post_personali = []\n",
    "    \n",
    "    #per istanziare gli oggetti Utente\n",
    "    def __init__(self, username, nome, cognome,password): \n",
    "        self.username = username\n",
    "        self.nome = nome\n",
    "        self.cognome = cognome\n",
    "        self.passwordord = password\n",
    "        lista_utenti.append(self.username)\n",
    "    \n",
    "    def registra(self):\n",
    "        lista_utenti_oggetto.append(self)\n",
    "        \n",
    "    \n",
    "    #Per far accedere l'utente al Social Astraction\n",
    "    def accedi(self, username, password):\n",
    "        username_ins = input('inserisci username: ')\n",
    "        password_ins = input('inserisci password: ')\n",
    "        \n",
    "        if username_ins == self.username and password_ins == self.password:\n",
    "            return True\n",
    "        else:\n",
    "            return False\n",
    "    \n",
    "    \n",
    "    def create_post(self):\n",
    "        testo_post = input('inserisci la stringa del post' ) \n",
    "        self.lista_post_personali.append(testo_post)\n",
    "        \n",
    "        #x = Post(self.username, testo_post )\n",
    "        #self.lista_post_personali.append( x )\n",
    "\n",
    "    #Cancelliamo un nostro post\n",
    "    def cancella_post(self, numeropost):\n",
    "        \n",
    "        if lista_post_personali != []: \n",
    "            for i in range(len(self.lista_post_personali)):\n",
    "                print(i, ':', self.lista_post_personali[i])\n",
    "            \n",
    "            index_to_pop = int(input('digita il numero del post da cancellare'))\n",
    "            lista_post_personali.pop(index_to_pop)\n",
    "            print('Bravo, hai cancellato il tuo post!')\n",
    "            \n",
    "        else:\n",
    "            print('non hai post')\n",
    "            \n",
    "    #Inizia il follow di un Utente usando la lista lista_utente, che contiene le string con gli username degli Utenti        \n",
    "    def following(self):\n",
    "        amico = input('inserisci il nome del tuo amico: ')\n",
    "        if amico in lista_utenti:\n",
    "            self.lista_amici_personali.append(amico)\n",
    "        else:\n",
    "            print('questo utente non esiste')\n",
    "            \n",
    "    #Elimina follower poppa un amico dalla lista\n",
    "    def blocca_follow(self):\n",
    "        try:\n",
    "            for i in range(len(self.lista_amici_personali)):\n",
    "                print(i, ':', self.lista_amici_personali[i])\n",
    "\n",
    "            exAmico = input(\"Inserisci il nome dell'amico che vuoi bloccare con cattiveria: \")\n",
    "            self.lista_amici_personali.remove(exAmico)\n",
    "        except:\n",
    "            print(\"l'amico non c'è\")\n",
    "        \n",
    "        "
   ]
  },
  {
   "cell_type": "code",
   "execution_count": 52,
   "id": "509cd785-5368-4cb0-bcfd-cfad2174065b",
   "metadata": {},
   "outputs": [],
   "source": [
    "class Post(Utente):\n",
    "    post_stesso = ''\n",
    "    lista_commenti_delPost = [ ]\n",
    "\n",
    "    def init (self, username, contenuto):\n",
    "        super().__init__(username)\n",
    "        self.post_stesso = contenuto\n",
    "\n",
    "    #def commenti()\n",
    "       # utente.post.commenti()?"
   ]
  },
  {
   "cell_type": "code",
   "execution_count": 53,
   "id": "81499fd4-05d8-423d-84de-f247e608c7e9",
   "metadata": {},
   "outputs": [],
   "source": [
    "giacomino = Utente('GiacomBomber69', 'Giacomo', 'Rossi', '12345')"
   ]
  },
  {
   "cell_type": "code",
   "execution_count": 54,
   "id": "5e56962f-9999-4923-8bc3-dbea189cd3be",
   "metadata": {},
   "outputs": [
    {
     "data": {
      "text/plain": [
       "['GiacomBomber69']"
      ]
     },
     "execution_count": 54,
     "metadata": {},
     "output_type": "execute_result"
    }
   ],
   "source": [
    "lista_utenti\n",
    "    "
   ]
  },
  {
   "cell_type": "code",
   "execution_count": 55,
   "id": "8adc4417-7298-4571-84a4-af4932d1e662",
   "metadata": {},
   "outputs": [],
   "source": [
    "giacomino.registra()"
   ]
  },
  {
   "cell_type": "code",
   "execution_count": 56,
   "id": "c1a07197-af78-4d1e-a2c5-68e1f8e922ca",
   "metadata": {},
   "outputs": [
    {
     "data": {
      "text/plain": [
       "'GiacomBomber69'"
      ]
     },
     "execution_count": 56,
     "metadata": {},
     "output_type": "execute_result"
    }
   ],
   "source": [
    "lista_utenti_oggetto[0].username"
   ]
  },
  {
   "cell_type": "code",
   "execution_count": null,
   "id": "01ad6602-aed5-46d3-8ffc-e7965f813009",
   "metadata": {},
   "outputs": [],
   "source": [
    "while:\n",
    "    "
   ]
  }
 ],
 "metadata": {
  "kernelspec": {
   "display_name": "Python 3 (ipykernel)",
   "language": "python",
   "name": "python3"
  },
  "language_info": {
   "codemirror_mode": {
    "name": "ipython",
    "version": 3
   },
   "file_extension": ".py",
   "mimetype": "text/x-python",
   "name": "python",
   "nbconvert_exporter": "python",
   "pygments_lexer": "ipython3",
   "version": "3.9.13"
  }
 },
 "nbformat": 4,
 "nbformat_minor": 5
}

{
 "cells": [
  {
   "cell_type": "code",
   "execution_count": 24,
   "id": "5315059d-fc13-4bdc-b8c3-ca2650d66d5f",
   "metadata": {},
   "outputs": [
    {
     "data": {
      "text/plain": [
       "'\\nRelease 1: Registrarsi, Connettersi, pubblicare post, commentare post altrui'"
      ]
     },
     "execution_count": 24,
     "metadata": {},
     "output_type": "execute_result"
    }
   ],
   "source": [
    "'''\n",
    "Release 1: Registrarsi, Connettersi, pubblicare post, commentare post altrui'''"
   ]
  },
  {
   "cell_type": "code",
   "execution_count": 25,
   "id": "d148f9e7-c092-4226-b148-1d44095f0021",
   "metadata": {},
   "outputs": [],
   "source": [
    "#in lista utenti ci sono gli user degli utenti istanziati\n",
    "#lista_utenti = []\n",
    "\n",
    "#in lista_utenti_oggetto ci sono gli oggetti utente\n",
    "lista_utenti_oggetto = []"
   ]
  },
  {
   "cell_type": "code",
   "execution_count": null,
   "id": "f5ac1e8b-6d9c-4473-be25-f60e3fbab63c",
   "metadata": {},
   "outputs": [],
   "source": []
  },
  {
   "cell_type": "code",
   "execution_count": 26,
   "id": "5b97a581-f455-4a33-b094-a5b89a633128",
   "metadata": {},
   "outputs": [],
   "source": [
    "class Utente:\n",
    "    amici_utente = []\n",
    "    homepage_utente = []\n",
    "    \n",
    "    #per istanziare gli oggetti Utente\n",
    "    def __init__(self, username, nome, cognome,password): \n",
    "        self.username = username\n",
    "        self.nome = nome\n",
    "        self.cognome = cognome\n",
    "        self.passwordord = password\n",
    "        lista_utenti_oggetto.append(self)\n",
    "        #lista_utenti.append(self.username) #<---\n",
    "    \n",
    "   # def registra(self):\n",
    "        #lista_utenti_oggetto.append(self)\n",
    "     \n",
    "    \n",
    "    #Per far accedere l'utente al Social Astraction\n",
    "    def accedi(self, username, password):\n",
    "        username_ins = input('inserisci username: ')\n",
    "        password_ins = input('inserisci password: ')\n",
    "        \n",
    "        if username_ins == self.username and password_ins == self.password:\n",
    "            return True\n",
    "        else:\n",
    "            return False\n",
    "        \n",
    "    \n",
    "    \n",
    "    def create_post(self):\n",
    "        testo_post = input('inserisci la stringa del post' ) \n",
    "        self.homepage_utente.append(testo_post)\n",
    "        \n",
    "        #x = Post(self.username, testo_post )\n",
    "        #self.homepage_personale.append( x )\n",
    "\n",
    "    #Cancelliamo un nostro post\n",
    "    def cancella_post(self):\n",
    "        \n",
    "        if self.homepage_utente!= []: \n",
    "            for i in range(len(self.homepage_utente)):\n",
    "                print(i, ':', self.homepage_utente[i])\n",
    "            \n",
    "            index_to_pop = int(input('digita il numero del post da cancellare'))\n",
    "            self.homepage_utente.pop(index_to_pop)\n",
    "            print('Bravo, hai cancellato il tuo post!')\n",
    "            \n",
    "        else:\n",
    "            print('non hai post')\n",
    "            \n",
    "    #Inizia il follow di un Utente usando la lista lista_utente, che contiene le string con gli username degli Utenti        \n",
    "    def following(self):\n",
    "        amico = input('inserisci il nome del tuo amico: ')\n",
    "        if amico in lista_utenti:\n",
    "            self.lista_amici_personali.append(amico)\n",
    "        else:\n",
    "            print('questo utente non esiste')\n",
    "            \n",
    "    #Elimina follower poppa un amico dalla lista\n",
    "    def blocca_follow(self):\n",
    "        try:\n",
    "            for i in range(len(self.lista_amici_personali)):\n",
    "                print(i, ':', self.lista_amici_personali[i])\n",
    "\n",
    "            exAmico = input(\"Inserisci il nome dell'amico che vuoi bloccare con cattiveria: \")\n",
    "            self.lista_amici_personali.remove(exAmico)\n",
    "        except:\n",
    "            print(\"l'amico non c'è\")\n",
    "    \n",
    "    def commenta_post(self, commentatore, contenutoPost):\n",
    "        lisstacommenti.append([commentatore, contenutoPost])\n",
    "        for i in lisstacommenti:\n",
    "            print(i,'\\n')\n",
    "    \n",
    "    def crea_post(self):\n",
    "        contenutoPost = input('Scrivi il tuo post: ')\n",
    "        \n",
    "        x = Post(self.username, contenutoPost)\n",
    "        self.homepage_utente.append(x)\n",
    "        return x\n",
    "    \n",
    "    def commenta_post(self, utenteX):\n",
    "        \n",
    "        for i in range(len(utenteX.homepage_utente)):\n",
    "            print(i, ':', utenteX.homepage_utente[i].post_stesso)\n",
    "            for j in utenteX.homepage_utente[i].lista_commenti_al_Post:\n",
    "                print(j)\n",
    "                   \n",
    "        try:\n",
    "            index_post = int(input(\"Digita l'indice del post da commentare: \"))\n",
    "            print()\n",
    "            commento = input('Digita il commento al post: ')\n",
    "            print()\n",
    "            \n",
    "            utenteX.homepage_utente[index_post].lista_commenti_al_Post.append( [self.username, commento] )\n",
    "            \n",
    "            print(utenteX.homepage_utente[index_post].post_stesso)\n",
    "            for j in utenteX.homepage_utente[index_post].lista_commenti_al_Post:\n",
    "                print(j, '\\n')\n",
    "            \n",
    "        except:\n",
    "            print('Hai provato a rompere Abstract')\n",
    "            utenteX.homepage_utente[i].lista_commenti_al_Post.append('')\n",
    "        \n",
    "        "
   ]
  },
  {
   "cell_type": "code",
   "execution_count": 27,
   "id": "509cd785-5368-4cb0-bcfd-cfad2174065b",
   "metadata": {},
   "outputs": [],
   "source": [
    "class Post:\n",
    "    lista_commenti_al_Post = [ ]\n",
    "    post_stesso = ''\n",
    "    username = ''\n",
    "    \n",
    "    def init (self, username , contenuto):\n",
    "        self.username = username\n",
    "        self.post_stesso = contenuto\n",
    "        \n"
   ]
  },
  {
   "cell_type": "code",
   "execution_count": 28,
   "id": "34f41159-486f-4062-b279-d4712045fcf2",
   "metadata": {},
   "outputs": [
    {
     "data": {
      "text/plain": [
       "'\\nclass DataBase:\\n\\n    def __init__(self,username, nome, cognome, password, lista_post,lista_amici):\\n        self.username = username\\n        self.nome = nome\\n        self.cognome = cognome\\n        self.passwordord = password\\n        self.lista_amici_personali = lista_post\\n        self.lista_post_personali = lista_amici\\n        '"
      ]
     },
     "execution_count": 28,
     "metadata": {},
     "output_type": "execute_result"
    }
   ],
   "source": [
    "'''\n",
    "class DataBase:\n",
    "\n",
    "    def __init__(self,username, nome, cognome, password, lista_post,lista_amici):\n",
    "        self.username = username\n",
    "        self.nome = nome\n",
    "        self.cognome = cognome\n",
    "        self.passwordord = password\n",
    "        self.lista_amici_personali = lista_post\n",
    "        self.lista_post_personali = lista_amici\n",
    "        '''"
   ]
  },
  {
   "cell_type": "code",
   "execution_count": 29,
   "id": "c47e4190-dd58-4e77-8ebd-0b6fdae66e06",
   "metadata": {},
   "outputs": [
    {
     "data": {
      "text/plain": [
       "\"\\nusers = [{'nome_user': 'Vinx989', 'nome':'vincenzo', 'cognome':'bruno', 'password':'trottola89!', 'posts':['Cosenza che bella giornata','La suppressata va senza finocchietto!!!','Il cielo è azzurro sopra berlino #campionidelMONDO'], 'amici':['pach90','Alerisp94','Ueloiol']},\\n         {'nome_user': 'Alerisp94', 'nome':'alessandra', 'cognome':'rispoli', 'password':'rispoli94!', 'posts':['Torino che bella giornata','Universo sto arrivando!!!','Il cielo è azzurro sopra berlino #campionidelMONDO'], 'amici':['pach90','Vinx989','Ueloiol']},\\n         {'nome_user': 'Pach90', 'nome':'nicola', 'cognome':'pacella', 'password':'nicolo90!', 'posts':['Firenze che bella giornata','La fiorentina batte il risotto alla milanese!!!','Il cielo è azzurro sopra berlino #campionidelMONDO'], 'amici':['Vinx989','Alerisp94','Ueloiol']},\\n         {'nome_user': 'Ueloiol', 'nome':'stefano', 'cognome':'bassi', 'password':'bassi99!', 'posts':['Pavia che bella giornata','Noi fisici siamo degli eroi!!!','Il cielo è azzurro sopra berlino #campionidelMONDO'], 'amici':['pach90','Alerisp94','Vinx989']}]\\n\""
      ]
     },
     "execution_count": 29,
     "metadata": {},
     "output_type": "execute_result"
    }
   ],
   "source": [
    "'''\n",
    "users = [{'nome_user': 'Vinx989', 'nome':'vincenzo', 'cognome':'bruno', 'password':'trottola89!', 'posts':['Cosenza che bella giornata','La suppressata va senza finocchietto!!!','Il cielo è azzurro sopra berlino #campionidelMONDO'], 'amici':['pach90','Alerisp94','Ueloiol']},\n",
    "         {'nome_user': 'Alerisp94', 'nome':'alessandra', 'cognome':'rispoli', 'password':'rispoli94!', 'posts':['Torino che bella giornata','Universo sto arrivando!!!','Il cielo è azzurro sopra berlino #campionidelMONDO'], 'amici':['pach90','Vinx989','Ueloiol']},\n",
    "         {'nome_user': 'Pach90', 'nome':'nicola', 'cognome':'pacella', 'password':'nicolo90!', 'posts':['Firenze che bella giornata','La fiorentina batte il risotto alla milanese!!!','Il cielo è azzurro sopra berlino #campionidelMONDO'], 'amici':['Vinx989','Alerisp94','Ueloiol']},\n",
    "         {'nome_user': 'Ueloiol', 'nome':'stefano', 'cognome':'bassi', 'password':'bassi99!', 'posts':['Pavia che bella giornata','Noi fisici siamo degli eroi!!!','Il cielo è azzurro sopra berlino #campionidelMONDO'], 'amici':['pach90','Alerisp94','Vinx989']}]\n",
    "'''"
   ]
  },
  {
   "cell_type": "code",
   "execution_count": 30,
   "id": "42812690-3879-40d8-8e10-907372ec226a",
   "metadata": {},
   "outputs": [
    {
     "data": {
      "text/plain": [
       "\"\\nfor item in users:\\n    username = item['nome_user']\\n    nome = item['nome']\\n    cognome = item['cognome']\\n    password = item['password']\\n    lista_post = item['posts']\\n    lista_amici = item['amici']\\n    globals()[f'utente_{nome}'] = DataBase(username,nome,cognome,password,lista_post,lista_amici)\\n    lista_utenti_oggetto.append(globals()[f'utente_{nome}'])\\n    \""
      ]
     },
     "execution_count": 30,
     "metadata": {},
     "output_type": "execute_result"
    }
   ],
   "source": [
    "'''\n",
    "for item in users:\n",
    "    username = item['nome_user']\n",
    "    nome = item['nome']\n",
    "    cognome = item['cognome']\n",
    "    password = item['password']\n",
    "    lista_post = item['posts']\n",
    "    lista_amici = item['amici']\n",
    "    globals()[f'utente_{nome}'] = DataBase(username,nome,cognome,password,lista_post,lista_amici)\n",
    "    lista_utenti_oggetto.append(globals()[f'utente_{nome}'])\n",
    "    '''"
   ]
  },
  {
   "cell_type": "code",
   "execution_count": null,
   "id": "a317a1e2-a7e7-4135-b08f-4ae306d00ffa",
   "metadata": {},
   "outputs": [],
   "source": []
  },
  {
   "cell_type": "code",
   "execution_count": 31,
   "id": "5e56962f-9999-4923-8bc3-dbea189cd3be",
   "metadata": {},
   "outputs": [
    {
     "data": {
      "text/plain": [
       "[<__main__.Utente at 0x250f0db6d90>]"
      ]
     },
     "execution_count": 31,
     "metadata": {},
     "output_type": "execute_result"
    }
   ],
   "source": [
    "giacomino = Utente('GiacomBomber69', 'Giacomo', 'Rossi', '12345')\n",
    "\n",
    "#lista_utenti_oggetto[0].lista_amici_personali\n",
    "lista_utenti_oggetto"
   ]
  },
  {
   "cell_type": "code",
   "execution_count": 32,
   "id": "62d29d30-d5d9-4f75-bac7-0dcc6eee3aa7",
   "metadata": {},
   "outputs": [],
   "source": [
    "def Registrazione():\n",
    "    print('Inserisci il tuo Username, Nome, Cognome, Password')\n",
    "    inRegistrazione = True\n",
    "            \n",
    "    while inRegistrazione:\n",
    "        username = input('Inserisci il tuo Username: ')\n",
    "                \n",
    "        nomeTrovato = False\n",
    "        for i in lista_utenti_oggetto:\n",
    "            if username == i.username:\n",
    "                nomeTrovato = True\n",
    "                break\n",
    "            \n",
    "        if nomeTrovato == False:            \n",
    "            name = input('Inserisci il tuo Nome: ')\n",
    "            surname = input('Inserisci il tuo Cognome: ')\n",
    "            password = input('Inserisci il la tua Password: ')\n",
    "\n",
    "            giacomino = Utente(username, name, surname, password)\n",
    "\n",
    "            print(f'Grazie per la tua registrazione {username}, ora puoi accedere ad Abstraction!')\n",
    "            print()\n",
    "            inRegistrazione = False\n",
    "\n",
    "        else: \n",
    "            print(\"L'username è già utilizzato, scegline un altro\")\n",
    "            print()\n",
    "            #qui dentro se vuoi aggiungere un pezzo per farlo uscire se si scoccia\n",
    "                \n",
    "        \n"
   ]
  },
  {
   "cell_type": "code",
   "execution_count": 33,
   "id": "0faa4356-147e-4a20-b813-4d2d1af8b4dc",
   "metadata": {},
   "outputs": [],
   "source": [
    "def Abstraction(NumeroUtente):\n",
    "    print(f'Salve, numero utente {lista_utenti_oggetto[NumeroUtente].username}, scegli cosa vuoi fare')\n",
    "    \n",
    "    inAbstraction = True\n",
    "    while inAbstraction:\n",
    "        print('0. Per accedere con un altro account')\n",
    "        print('1. Pubblica un Post')\n",
    "        print('2. Commenta un Post')\n",
    "        print('3. Aggiungi Amici')\n",
    "        print()\n",
    "        scelta = input('Scelta: ')\n",
    "        \n",
    "        if scelta == '0':\n",
    "            #print('Arrivederci')\n",
    "            break\n",
    "        \n",
    "        #Per creare un post da appendare alla propria Home Page\n",
    "        elif scelta == '1':\n",
    "            lista_utenti_oggetto[NumeroUtente].create_post() \n",
    "        \n",
    "        #Per commentare un post gia esistente, da debuggare\n",
    "        elif scelta == '2':\n",
    "            utente_cercato = input('Digita il nome di un utente: ')\n",
    "            \n",
    "            nomeTrovato = False            \n",
    "            for i in lista_utenti_oggetto:\n",
    "                if utente_cercato == i.username:\n",
    "                    nomeTrovato = True\n",
    "                    utente = i\n",
    "                break\n",
    "            \n",
    "            if nomeTrovato == True:                        \n",
    "                lista_utenti_oggetto[NumeroUtente].commenta_pos()\n",
    "            else:\n",
    "                scelta = input('Nome non trovato.')\n",
    "                \n",
    "        elif scelta == '3':\n",
    "            #lista_utenti_oggetto[NumeroUtente].following()\n",
    "            pass\n",
    "                    \n",
    "        else:\n",
    "            print('inserisci scelta valida')\n",
    "    \n",
    "    pass"
   ]
  },
  {
   "cell_type": "code",
   "execution_count": 34,
   "id": "01ad6602-aed5-46d3-8ffc-e7965f813009",
   "metadata": {},
   "outputs": [],
   "source": [
    "def AbstractionAccess():\n",
    "    accesso_registrazione = True\n",
    "    \n",
    "    while accesso_registrazione:\n",
    "        print('scegli se registrarti, accedere o uscire dal solcial Abstraction')\n",
    "        print('0. Per Uscire')\n",
    "        print('1. Per registrarti')\n",
    "        print('2. Per accedere')\n",
    "        print()\n",
    "        scelta = input('Scelta: ')\n",
    "        \n",
    "        #Per uscire dal Primo Menu\n",
    "        if scelta == '0':\n",
    "            print('Arrivederci')\n",
    "            accesso_registrazione = False\n",
    "        \n",
    "        #Per la registrazione, non si esce dal ciclo totale, si rimane dentro finchè non ti registri con un User assente\n",
    "        elif scelta == '1':\n",
    "            Registrazione()\n",
    "            \n",
    "        #accedere, poi dentro altro swithc InAbstract con le cose che si possono fare nel social    \n",
    "        elif scelta == '2':\n",
    "            \n",
    "            userInserito = input('Inserisci il tuo Username: ')\n",
    "            passwordInserita = input('Inserisci la tua Password: ')\n",
    "            \n",
    "            datiCorretti = False\n",
    "            for i in range(len(lista_utenti_oggetto)):\n",
    "                if userInserito == lista_utenti_oggetto[i].username and passwordInserita == lista_utenti_oggetto[i].passwordord:\n",
    "                    posizioneOggetto = i\n",
    "                    datiCorretti = True\n",
    "                    break\n",
    "            \n",
    "            if datiCorretti == False:            \n",
    "                print('User o Password errata')\n",
    "                    \n",
    "\n",
    "            else: \n",
    "                print(\"Accesso Eseguito!\")\n",
    "                print()\n",
    "                Abstraction(posizioneOggetto)\n",
    "            \n",
    "        #else del menu principale, in caso è stata inserita una scelta a caso\n",
    "        else:\n",
    "            print('Inserisci scelta valida')\n",
    "    "
   ]
  },
  {
   "cell_type": "code",
   "execution_count": 35,
   "id": "0896feb0-48bb-4279-ab1c-93168a561d00",
   "metadata": {
    "collapsed": true,
    "jupyter": {
     "outputs_hidden": true
    },
    "tags": []
   },
   "outputs": [
    {
     "name": "stdout",
     "output_type": "stream",
     "text": [
      "scegli se registrarti, accedere o uscire dal solcial Abstraction\n",
      "0. Per Uscire\n",
      "1. Per registrarti\n",
      "2. Per accedere\n",
      "\n"
     ]
    },
    {
     "name": "stdin",
     "output_type": "stream",
     "text": [
      "Scelta:  1\n"
     ]
    },
    {
     "name": "stdout",
     "output_type": "stream",
     "text": [
      "Inserisci il tuo Username, Nome, Cognome, Password\n"
     ]
    },
    {
     "name": "stdin",
     "output_type": "stream",
     "text": [
      "Inserisci il tuo Username:  Pach\n",
      "Inserisci il tuo Nome:  Nicola\n",
      "Inserisci il tuo Cognome:  Pacella\n",
      "Inserisci il la tua Password:  1234\n"
     ]
    },
    {
     "name": "stdout",
     "output_type": "stream",
     "text": [
      "Grazie per la tua registrazione Pach, ora puoi accedere ad Abstraction!\n",
      "\n",
      "scegli se registrarti, accedere o uscire dal solcial Abstraction\n",
      "0. Per Uscire\n",
      "1. Per registrarti\n",
      "2. Per accedere\n",
      "\n"
     ]
    },
    {
     "name": "stdin",
     "output_type": "stream",
     "text": [
      "Scelta:  1\n"
     ]
    },
    {
     "name": "stdout",
     "output_type": "stream",
     "text": [
      "Inserisci il tuo Username, Nome, Cognome, Password\n"
     ]
    },
    {
     "name": "stdin",
     "output_type": "stream",
     "text": [
      "Inserisci il tuo Username:  Pach\n"
     ]
    },
    {
     "name": "stdout",
     "output_type": "stream",
     "text": [
      "L'username è già utilizzato, scegline un altro\n",
      "\n"
     ]
    },
    {
     "name": "stdin",
     "output_type": "stream",
     "text": [
      "Inserisci il tuo Username:  Ale94\n",
      "Inserisci il tuo Nome:  Alessandra\n",
      "Inserisci il tuo Cognome:  Rispoli\n",
      "Inserisci il la tua Password:  1234\n"
     ]
    },
    {
     "name": "stdout",
     "output_type": "stream",
     "text": [
      "Grazie per la tua registrazione Ale94, ora puoi accedere ad Abstraction!\n",
      "\n",
      "scegli se registrarti, accedere o uscire dal solcial Abstraction\n",
      "0. Per Uscire\n",
      "1. Per registrarti\n",
      "2. Per accedere\n",
      "\n"
     ]
    },
    {
     "name": "stdin",
     "output_type": "stream",
     "text": [
      "Scelta:  2\n",
      "Inserisci il tuo Username:  Pach\n",
      "Inserisci la tua Password:  1234\n"
     ]
    },
    {
     "name": "stdout",
     "output_type": "stream",
     "text": [
      "Accesso Eseguito!\n",
      "\n",
      "Salve, numero utente Pach, scegli cosa vuoi fare\n",
      "0. Per accedere con un altro account\n",
      "1. Pubblica un Post\n",
      "2. Commenta un Post\n",
      "3. Aggiungi Amici\n",
      "\n"
     ]
    },
    {
     "name": "stdin",
     "output_type": "stream",
     "text": [
      "Scelta:  1\n",
      "inserisci la stringa del post Ciao\n"
     ]
    },
    {
     "name": "stdout",
     "output_type": "stream",
     "text": [
      "0. Per accedere con un altro account\n",
      "1. Pubblica un Post\n",
      "2. Commenta un Post\n",
      "3. Aggiungi Amici\n",
      "\n"
     ]
    },
    {
     "name": "stdin",
     "output_type": "stream",
     "text": [
      "Scelta:  0\n"
     ]
    },
    {
     "name": "stdout",
     "output_type": "stream",
     "text": [
      "scegli se registrarti, accedere o uscire dal solcial Abstraction\n",
      "0. Per Uscire\n",
      "1. Per registrarti\n",
      "2. Per accedere\n",
      "\n"
     ]
    },
    {
     "name": "stdin",
     "output_type": "stream",
     "text": [
      "Scelta:  0\n"
     ]
    },
    {
     "name": "stdout",
     "output_type": "stream",
     "text": [
      "Arrivederci\n"
     ]
    }
   ],
   "source": [
    "AbstractionAccess()"
   ]
  },
  {
   "cell_type": "code",
   "execution_count": null,
   "id": "960572c4-9b5a-40d3-af91-7be75138eeb2",
   "metadata": {},
   "outputs": [],
   "source": []
  },
  {
   "cell_type": "code",
   "execution_count": null,
   "id": "f3cff80e-72b0-45d0-b792-2882ba5d12ef",
   "metadata": {},
   "outputs": [],
   "source": [
    "'''\n",
    "2--\n",
    "    accedi\n",
    "        menu con altre opzioni\n",
    "            \n",
    "    fail\n",
    "\n",
    "\n",
    "'''"
   ]
  },
  {
   "cell_type": "code",
   "execution_count": null,
   "id": "58e87d73-cf57-4230-8f39-c61a45c6b6c5",
   "metadata": {},
   "outputs": [],
   "source": [
    "'''\n",
    "\n",
    "class Gestinoale_Utenti:\n",
    "\n",
    "    def __init__(self, lista_utenti_oggetto, username_log)\n",
    "        self.lista_utenti_oggetto = lista_utenti_oggetto\n",
    "        self.username_log = username_log\n",
    "\n",
    "    # stiamo dando per scontato che lo username inserito sia già presente\n",
    "    def indice_username (self):\n",
    "        index = False\n",
    "        for i in range(len(self.lista_utenti_oggetto)):\n",
    "            if self.lista_utenti_oggetto[i].Username == self.Username_log :\n",
    "            index = i\n",
    "        return index\n",
    "\n",
    "    def create_post(self):\n",
    "        index = indice_username(self)\n",
    "\n",
    "        if index != False:\n",
    "            testo_post = input('inserisci la stringa del post' ) \n",
    "            self.lista_utenti_oggetto[index].lista_post_personali.append(testo_post)\n",
    "        else:\n",
    "            print('attenzione non c è corrispondenza dell utente nel databse, contattare servizio IT')    \n",
    "\n",
    "    def commento_post (commento_x)\n",
    "\n",
    "'''"
   ]
  },
  {
   "cell_type": "code",
   "execution_count": null,
   "id": "605f3289-d7df-4d0c-ac7a-d7ca9003bfe5",
   "metadata": {},
   "outputs": [],
   "source": [
    "'''\n",
    "class Post(Utente):\n",
    "    post_stesso = ''\n",
    "    lista_commenti_del_Post = [ ]\n",
    "    diz = {}\n",
    "    lista_commentatori =[]     # utente.username\n",
    "    # lista_commenti = [ gianni1, gianni 2, gianni 3, franco1, giovanni1, giovanni2]\n",
    "\n",
    "\n",
    "    def init (self, username, contenuto):\n",
    "        super().__init__(username)\n",
    "        self.post_stesso = contenuto\n",
    "\n",
    "    #def pubblicazione_post()\n",
    "       # utente.post.commenti()?\n",
    "\n",
    "    def aggiungi_COMMENTATORE_E_COMMENTO(self, commentatore, commento):\n",
    "        count = len(diz.keys)\n",
    "        globals() [f'Messaggio_{count}']\n",
    "        diz[globals() [f'Messaggio_{count}']]= [commentatore, commento] \n",
    "\n",
    "    \n",
    "\n",
    "\n",
    "\n",
    "\n",
    "    #def aggiungi_il_commento()\n",
    "    '''"
   ]
  },
  {
   "cell_type": "code",
   "execution_count": null,
   "id": "509ae916-6398-43fb-aa7b-d1378d4ad73b",
   "metadata": {},
   "outputs": [],
   "source": [
    "'''\n",
    "diz = {}\n",
    "\n",
    "\n",
    "diz['Gianni'] = []\n",
    "diz['Alberto'] = [] \n",
    "\n",
    "diz['Gianni'].append('ciao a tutti')\n",
    "diz['Gianni'].append('sto andando via')\n",
    "\n",
    "diz['Alberto'].append('sono arrivato')\n",
    "\n",
    "n_commenti= print(len(diz['Gianni']))\n",
    "\n",
    "print(diz)\n",
    "\n",
    "'''"
   ]
  },
  {
   "cell_type": "code",
   "execution_count": 51,
   "id": "4620ac81-1c66-4d68-86e0-4c34dd83159d",
   "metadata": {},
   "outputs": [
    {
     "data": {
      "text/plain": [
       "\"\\ndiz = {}\\n\\n\\nlisstacommenti = [ ['Gianni', 'ciao come va?'] , ['Giovanni', 'bene bene da voi come procede?'] ]\\n\\ndef commenta_post(self, commentatore, contenutoPost):\\n    lisstacommenti.append([commentatore, contenutoPost])\\n    for i in lisstacommenti:\\n        print(i,'\\n')\\n        \""
      ]
     },
     "execution_count": 51,
     "metadata": {},
     "output_type": "execute_result"
    }
   ],
   "source": [
    "'''\n",
    "diz = {}\n",
    "\n",
    "\n",
    "lisstacommenti = [ ['Gianni', 'ciao come va?'] , ['Giovanni', 'bene bene da voi come procede?'] ]\n",
    "\n",
    "def commenta_post(self, commentatore, contenutoPost):\n",
    "    lisstacommenti.append([commentatore, contenutoPost])\n",
    "    for i in lisstacommenti:\n",
    "        print(i,'\\n')\n",
    "        '''\n"
   ]
  },
  {
   "cell_type": "code",
   "execution_count": 33,
   "id": "56e1fb04-1d38-491d-82c2-8c17613b2c3e",
   "metadata": {},
   "outputs": [],
   "source": [
    "\n"
   ]
  }
 ],
 "metadata": {
  "kernelspec": {
   "display_name": "Python 3 (ipykernel)",
   "language": "python",
   "name": "python3"
  },
  "language_info": {
   "codemirror_mode": {
    "name": "ipython",
    "version": 3
   },
   "file_extension": ".py",
   "mimetype": "text/x-python",
   "name": "python",
   "nbconvert_exporter": "python",
   "pygments_lexer": "ipython3",
   "version": "3.9.13"
  }
 },
 "nbformat": 4,
 "nbformat_minor": 5
}
